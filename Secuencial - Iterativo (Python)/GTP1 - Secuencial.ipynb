{
  "cells": [
    {
      "cell_type": "markdown",
      "metadata": {
        "id": "lD25SpuadHBX"
      },
      "source": [
        "\n",
        "\n",
        "---\n",
        "\n",
        "\n",
        "\n",
        "# ***Antes de comenzar, hacer una copia de este Colab, yendo a Archivo → Guardar una copia en Drive y trabajar sobre dicha copia (borrar esta celda una vez hecho eso)***\n",
        "\n",
        "---\n",
        "\n"
      ]
    },
    {
      "cell_type": "markdown",
      "metadata": {
        "id": "uKDnMQadm82Y"
      },
      "source": [
        "# Guia de Trabajos Prácticos 1: Paradigma Secuencial\n",
        "\n",
        "### Introducción\n",
        "El paradigma de programación secuencial es uno de los conceptos más básicos, donde las instrucciones se ejecutan en orden, una tras otra, desde el inicio hasta el final del programa. Este enfoque permite a los programadores abordar problemas de manera estructurada, facilitando el análisis y la solución de los mismos mediante la descomposición en pasos sucesivos. Aprender a programar dentro de este paradigma no solo es crucial para los principiantes, sino que también sienta las bases para comprender paradigmas más complejos en el futuro.\n",
        "### Objetivo\n",
        "El objetivo de esta guía es proporcionar a los principiantes en programación una serie de ejercicios que les ayuden a entender y aplicar los principios básicos del paradigma de programación secuencial. A través de estos ejercicios, los estudiantes aprenderán a manejar entradas y salidas, realizar cálculos matemáticos simples, y aplicar lógica básica para resolver problemas comunes.\n"
      ]
    },
    {
      "cell_type": "markdown",
      "metadata": {
        "id": "RnnJOV5knT34"
      },
      "source": [
        "### Ejercicio 1: Calculadora de Edad\n",
        "\n",
        "Desarrolla un programa que pida al usuario su año de nacimiento y el año actual, y calcule su edad.\n"
      ]
    },
    {
      "cell_type": "code",
      "execution_count": null,
      "metadata": {
        "colab": {
          "base_uri": "https://localhost:8080/"
        },
        "id": "-wWpm8QuniH1",
        "outputId": "9fea49fb-cd0d-4092-cf35-d99ff80e1998"
      },
      "outputs": [
        {
          "name": "stdout",
          "output_type": "stream",
          "text": [
            "Introduce tu año de nacimiento: 2001\n",
            "Introduce el año actual: 2024\n",
            "Tenés 23 años\n"
          ]
        }
      ],
      "source": [
        "nacimiento = int(input(\"Introduce tu año de nacimiento: \"))\n",
        "actual = int(input(\"Introduce el año actual: \"))\n",
        "\n",
        "# Calcula la edad del usuario\n",
        "\n",
        "edad = actual - nacimiento\n",
        "\n",
        "# Imprime la edad del usuario\n",
        "print(\"Tenés\", edad, \"años\")\n"
      ]
    },
    {
      "cell_type": "markdown",
      "metadata": {
        "id": "RYhst23coitk"
      },
      "source": [
        "### Ejercicio 2: Conversión de Segundos\n",
        "\n",
        "Realiza un programa que convierta un número de segundos introducidos por el usuario en horas, minutos y segundos."
      ]
    },
    {
      "cell_type": "code",
      "execution_count": null,
      "metadata": {
        "colab": {
          "base_uri": "https://localhost:8080/"
        },
        "id": "HPOL0Nwiomej",
        "outputId": "9d821dae-ca52-41af-931c-e87ff7d782f5"
      },
      "outputs": [
        {
          "name": "stdout",
          "output_type": "stream",
          "text": [
            "Introduce el número de segundos: 86461\n",
            "24 h 1 m 1 s\n"
          ]
        }
      ],
      "source": [
        "import math\n",
        "\n",
        "segundos = int(input(\"Introduce el número de segundos: \"))\n",
        "\n",
        "# Convierte los segundos a horas, minutos y segundos\n",
        "\n",
        "# segundosresto = segundos%60\n",
        "# minutos = (segundos-segundosresto)/60\n",
        "# minutosresto = minutos%60\n",
        "# horas = (minutos-minutosresto)/60\n",
        "# horasresto = horas%60\n",
        "\n",
        "horas= math.trunc(segundos/3600)\n",
        "minutos= math.trunc(segundos/60)-horas*60\n",
        "segundos= segundos-minutos*60-horas*3600\n",
        "\n",
        "\n",
        "# Imprime el resultado en formato de horas, minutos y segundos\n",
        "\n",
        "print(horas,\"h\",minutos,\"m\",segundos,\"s\")\n",
        "# print(horasresto,\"h\",minutosresto,\"m\",segundosresto,\"s\")"
      ]
    },
    {
      "cell_type": "markdown",
      "metadata": {
        "id": "Yje1cnTQom1u"
      },
      "source": [
        "### Ejercicio 3: Calculadora de Raíces Cuadradas\n",
        "\n",
        "Crea un programa que calcule y muestre la raíz cuadrada de una serie de números introducidos por el usuario. El programa termina cuando el usuario introduce un número negativo."
      ]
    },
    {
      "cell_type": "code",
      "execution_count": null,
      "metadata": {
        "colab": {
          "base_uri": "https://localhost:8080/"
        },
        "id": "C7Ox_p4coosL",
        "outputId": "b5a56d05-7bf7-4f65-c1c6-78f103e65b94"
      },
      "outputs": [
        {
          "name": "stdout",
          "output_type": "stream",
          "text": [
            "Introduce un número (negativo para terminar): 144\n",
            "12.0\n",
            "Introduce un número (negativo para terminar): 100\n",
            "10.0\n",
            "Introduce un número (negativo para terminar): 3453463447567456456345346347\n",
            "58766176050237.06\n",
            "Introduce un número (negativo para terminar): -1\n"
          ]
        }
      ],
      "source": [
        "import math\n",
        "\n",
        "numero = float(input(\"Introduce un número (negativo para terminar): \"))\n",
        "\n",
        "# En un bucle, verifica si el número es negativo; si lo es, termina el bucle\n",
        "# Calcula la raíz cuadrada del número\n",
        "\n",
        "while(numero>0):\n",
        " print(math.sqrt(numero))\n",
        " numero = float(input(\"Introduce un número (negativo para terminar): \"))\n",
        "# Imprime la raíz cuadrada"
      ]
    },
    {
      "cell_type": "markdown",
      "metadata": {
        "id": "igiSURU3opBv"
      },
      "source": [
        "### Ejercicio 4: Cálculo del Índice de Masa Corporal (IMC)\n",
        "\n",
        "Crea un programa que solicite el peso en kilogramos y la altura en metros de una persona, calcule su IMC y lo clasifique según la tabla de IMC."
      ]
    },
    {
      "cell_type": "code",
      "execution_count": null,
      "metadata": {
        "colab": {
          "base_uri": "https://localhost:8080/"
        },
        "id": "_NWk0hTdorGV",
        "outputId": "e3269aee-9639-47b2-b7dd-6c9b9b2c9bbd"
      },
      "outputs": [
        {
          "name": "stdout",
          "output_type": "stream",
          "text": [
            "Introduce tu peso en kilogramos: 65\n",
            "Introduce tu altura en metros: 1.68\n",
            "IMC: 23.030045351473927\n"
          ]
        }
      ],
      "source": [
        "peso = float(input(\"Introduce tu peso en kilogramos: \"))\n",
        "altura = float(input(\"Introduce tu altura en metros: \"))\n",
        "\n",
        "# Calcula el IMC\n",
        "\n",
        "IMC = peso/(altura*altura)\n",
        "\n",
        "# Imprime el IMC\n",
        "\n",
        "print(\"IMC:\",IMC)"
      ]
    },
    {
      "cell_type": "markdown",
      "metadata": {
        "id": "gpoBwyrAorQl"
      },
      "source": [
        "### Ejercicio 5: Conversión de Unidades\n",
        "\n",
        "Realiza un programa que convierta la temperatura de grados Celsius a Fahrenheit."
      ]
    },
    {
      "cell_type": "code",
      "execution_count": null,
      "metadata": {
        "colab": {
          "base_uri": "https://localhost:8080/"
        },
        "id": "icLBHz5cos0s",
        "outputId": "b15e9676-47b5-431d-9ed5-fc14a698f92c"
      },
      "outputs": [
        {
          "name": "stdout",
          "output_type": "stream",
          "text": [
            "Introduce la temperatura en grados Celsius: 35\n",
            "F: 95.0\n"
          ]
        }
      ],
      "source": [
        "celsius = float(input(\"Introduce la temperatura en grados Celsius: \"))\n",
        "\n",
        "# Convierte la temperatura a Fahrenheit\n",
        "\n",
        "F = celsius*(9/5) + 32\n",
        "\n",
        "# Imprime la temperatura en Fahrenheit\n",
        "\n",
        "print(\"F:\", F)\n"
      ]
    },
    {
      "cell_type": "markdown",
      "metadata": {
        "id": "d8m5nzQtotAH"
      },
      "source": [
        "### Ejercicio 6: Cálculo de Distancia de Viaje\n",
        "\n",
        "Escribe un programa que pida al usuario la velocidad promedio de un vehículo (en km/h) y el tiempo de viaje (en horas), y luego calcule la distancia total recorrida."
      ]
    },
    {
      "cell_type": "code",
      "execution_count": null,
      "metadata": {
        "colab": {
          "base_uri": "https://localhost:8080/"
        },
        "id": "8rQBadBWoukF",
        "outputId": "4c0acfd1-8766-48c5-8a0a-904f6347fde9"
      },
      "outputs": [
        {
          "name": "stdout",
          "output_type": "stream",
          "text": [
            "Introduce la velocidad promedio en km/h: 10\n",
            "Introduce el tiempo de viaje en horas: 2\n",
            "distancia: 20.0\n"
          ]
        }
      ],
      "source": [
        "velocidad_promedio = float(input(\"Introduce la velocidad promedio en km/h: \"))\n",
        "tiempo_viaje = float(input(\"Introduce el tiempo de viaje en horas: \"))\n",
        "\n",
        "# Calcula la distancia total recorrida\n",
        "\n",
        "dist_viaje = velocidad_promedio*tiempo_viaje\n",
        "\n",
        "# Imprime la distancia\n",
        "\n",
        "print(\"distancia:\",dist_viaje)"
      ]
    },
    {
      "cell_type": "markdown",
      "metadata": {
        "id": "g-ptrzeuouvb"
      },
      "source": [
        "### Ejercicio 7: Presupuesto de Viaje\n",
        "\n",
        "Desarrolla un programa que solicite al usuario el costo por día de alquiler de un vehículo, el número de días de alquiler y el presupuesto para combustible, y luego calcule el costo total del viaje."
      ]
    },
    {
      "cell_type": "code",
      "execution_count": null,
      "metadata": {
        "colab": {
          "base_uri": "https://localhost:8080/"
        },
        "id": "L1lGLnnDowYS",
        "outputId": "90b809fb-9afa-4eb3-ad28-6f9006a90a80"
      },
      "outputs": [
        {
          "name": "stdout",
          "output_type": "stream",
          "text": [
            "Introduce el costo por día de alquiler del vehículo: 5\n",
            "Introduce el número de días de alquiler: 5\n",
            "Introduce el presupuesto para combustible: 2\n",
            "27.0\n"
          ]
        }
      ],
      "source": [
        "costo_dia_alquiler = float(input(\"Introduce el costo por día de alquiler del vehículo: \"))\n",
        "numero_dias = int(input(\"Introduce el número de días de alquiler: \"))\n",
        "presupuesto_combustible = float(input(\"Introduce el presupuesto para combustible: \"))\n",
        "\n",
        "# Calcula el costo total del viaje\n",
        "\n",
        "print(costo_dia_alquiler*numero_dias+presupuesto_combustible)\n",
        "\n",
        "# Imprime el costo total"
      ]
    },
    {
      "cell_type": "markdown",
      "metadata": {
        "id": "s8k3gaBpoxdV"
      },
      "source": [
        "### Ejercicio 8: Volumen de un Cilindro\n",
        "\n",
        "Crea un programa que calcule el volumen de un cilindro después de pedir al usuario el radio de la base y la altura del cilindro."
      ]
    },
    {
      "cell_type": "code",
      "execution_count": null,
      "metadata": {
        "id": "oYOuajaHoyEp"
      },
      "outputs": [],
      "source": [
        "import math\n",
        "\n",
        "radio = float(input(\"Introduce el radio de la base del cilindro: \"))\n",
        "altura = float(input(\"Introduce la altura del cilindro: \"))\n",
        "\n",
        "# Calcula el volumen del cilindro\n",
        "\n",
        "areacirculo = math.pi*radio*radio\n",
        "\n",
        "# Imprime el volumen\n",
        "\n",
        "print(areacirculo*altura)"
      ]
    }
  ],
  "metadata": {
    "colab": {
      "provenance": [],
      "toc_visible": true
    },
    "kernelspec": {
      "display_name": "Python 3",
      "name": "python3"
    },
    "language_info": {
      "name": "python"
    }
  },
  "nbformat": 4,
  "nbformat_minor": 0
}
