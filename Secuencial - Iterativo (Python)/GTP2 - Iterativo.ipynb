{
  "nbformat": 4,
  "nbformat_minor": 0,
  "metadata": {
    "colab": {
      "provenance": []
    },
    "kernelspec": {
      "name": "python3",
      "display_name": "Python 3"
    },
    "language_info": {
      "name": "python"
    }
  },
  "cells": [
    {
      "cell_type": "markdown",
      "source": [
        "# Guia de Trabajos Prácticos 2: Paradigma Iterativo\n",
        "\n",
        "## Introducción\n",
        "El paradigma de programación iterativa se basa en la repetición de un conjunto de instrucciones hasta que se cumple una condición específica. Este enfoque permite a los programas realizar tareas complejas con una cantidad mínima de código, mediante el uso de bucles como for, while, o do-while. A través de la iteración, podemos manejar fácilmente tareas que involucran procesamiento de datos en masa, como calcular sumas acumulativas, buscar elementos en estructuras de datos, o aplicar operaciones a elementos de arrays y listas. Dominar la programación iterativa es esencial para cualquier desarrollador, ya que mejora la eficiencia del código y permite resolver problemas prácticos de manera más efectiva.\n",
        "## Objetivo\n",
        "El objetivo de esta guía es aplicar bucles para realizar tareas repetitivas, manejar colecciones de datos y procesar entradas del usuario de manera eficiente. Estos ejercicios están diseñados para repasar la comprensión de los conceptos fundamentales de la iteración y pensar en términos de procesos repetitivos.\n"
      ],
      "metadata": {
        "id": "YYC7PNd_tjyh"
      }
    },
    {
      "cell_type": "markdown",
      "source": [
        "### Ejercicio 1: Conteo hasta N\n",
        "\n",
        "Escribe un programa que pida al usuario un número N y luego cuente desde 1 hasta N."
      ],
      "metadata": {
        "id": "A2neb4Xattu6"
      }
    },
    {
      "cell_type": "code",
      "source": [
        "N = int(input(\"Introduce un número N: \"))\n",
        "# Usa un bucle para contar desde 1 hasta N\n",
        "# Imprime cada número\n",
        "\n",
        "for i in range(1,N+1):\n",
        "  print(i)"
      ],
      "metadata": {
        "id": "TMedbGZht8Ud",
        "colab": {
          "base_uri": "https://localhost:8080/"
        },
        "outputId": "a39b7ca7-1121-4068-b07d-c53327a100b1"
      },
      "execution_count": null,
      "outputs": [
        {
          "output_type": "stream",
          "name": "stdout",
          "text": [
            "Introduce un número N: 8\n",
            "1\n",
            "2\n",
            "3\n",
            "4\n",
            "5\n",
            "6\n",
            "7\n",
            "8\n"
          ]
        }
      ]
    },
    {
      "cell_type": "code",
      "source": [
        "N = int(input(\"Introduce un número N: \"))\n",
        "# Usa un bucle para contar desde 1 hasta N\n",
        "# Imprime cada número\n"
      ],
      "metadata": {
        "colab": {
          "base_uri": "https://localhost:8080/"
        },
        "id": "MOX0PgGj6FFZ",
        "outputId": "644a20fd-4302-490f-dd74-c6324f5ae8ae"
      },
      "execution_count": null,
      "outputs": [
        {
          "output_type": "stream",
          "name": "stdout",
          "text": [
            "Introduce un número N: 5\n",
            "1\n",
            "2\n",
            "3\n",
            "4\n",
            "5\n"
          ]
        }
      ]
    },
    {
      "cell_type": "markdown",
      "source": [
        "### Ejercicio 2: Suma de Números\n",
        "\n",
        "Desarrolla un programa que solicite al usuario N números y calcule su suma."
      ],
      "metadata": {
        "id": "wlONZV4Ft85H"
      }
    },
    {
      "cell_type": "code",
      "source": [
        "N = int(input(\"¿Cuántos números deseas sumar? \"))\n",
        "suma = 0\n",
        "# Usa un bucle para solicitar N números y sumarlos\n",
        "\n",
        "for i in range(N):\n",
        " numero = int(input(\"Ingresa el número: \"))\n",
        " suma = suma+numero\n",
        "\n",
        "# Imprime la suma total\n",
        "\n",
        "print(suma)"
      ],
      "metadata": {
        "id": "cpF7dHlzt_5X",
        "colab": {
          "base_uri": "https://localhost:8080/"
        },
        "outputId": "661756fa-b4ca-4b12-84bd-80c2b676fbc9"
      },
      "execution_count": null,
      "outputs": [
        {
          "output_type": "stream",
          "name": "stdout",
          "text": [
            "¿Cuántos números deseas sumar? 5\n",
            "Ingresa el número 2\n",
            "Ingresa el número 3\n",
            "Ingresa el número 5\n",
            "Ingresa el número 1\n",
            "Ingresa el número 7\n",
            "18\n"
          ]
        }
      ]
    },
    {
      "cell_type": "markdown",
      "source": [
        "### Ejercicio 3: Media de Números\n",
        "\n",
        "Crea un programa que lea N números del usuario y calcule su media."
      ],
      "metadata": {
        "id": "J7VAhvesuARP"
      }
    },
    {
      "cell_type": "code",
      "source": [
        "N = int(input(\"¿Cuántos números deseas promediar? \"))\n",
        "suma = 0\n",
        "# Usa un bucle para solicitar N números, sumarlos y luego calcular la media\n",
        "for i in range(N):\n",
        " numero = int(input(\"Ingresa el número: \"))\n",
        " suma = suma+numero\n",
        "\n",
        "media = suma/N\n",
        "# Imprime la media\n",
        "print(media)"
      ],
      "metadata": {
        "id": "YUJpOsvluDWP",
        "colab": {
          "base_uri": "https://localhost:8080/"
        },
        "outputId": "50dc1abe-6571-4f4a-cd24-02dc13a07a3f"
      },
      "execution_count": null,
      "outputs": [
        {
          "output_type": "stream",
          "name": "stdout",
          "text": [
            "¿Cuántos números deseas promediar? 3\n",
            "Ingresa el número: 8\n",
            "Ingresa el número: 4\n",
            "Ingresa el número: 2\n",
            "4.666666666666667\n"
          ]
        }
      ]
    },
    {
      "cell_type": "markdown",
      "source": [
        "### Ejercicio 4: Encontrar el Máximo\n",
        "\n",
        "Escribe un programa que pida al usuario N números y encuentre el máximo de ellos."
      ],
      "metadata": {
        "id": "4gLekYiQuDse"
      }
    },
    {
      "cell_type": "code",
      "source": [
        "N = int(input(\"¿Cuántos números vas a introducir? \"))\n",
        "# Inicializa una variable para guardar el máximo valor\n",
        "max=-999999999\n",
        "# Usa un bucle para solicitar N números y encontrar el máximo\n",
        "for i in range(N):\n",
        "  num = int(input(\"Ingresa el número: \"))\n",
        "  if num > max:\n",
        "    max = num\n",
        "\n",
        "# Imprime el número máximo\n",
        "print(max)"
      ],
      "metadata": {
        "id": "Qgh-7ts8uF9Y",
        "colab": {
          "base_uri": "https://localhost:8080/"
        },
        "outputId": "4f3dcc05-137b-4116-af5e-f5d4363954c7"
      },
      "execution_count": null,
      "outputs": [
        {
          "output_type": "stream",
          "name": "stdout",
          "text": [
            "¿Cuántos números vas a introducir? 3\n",
            "Ingresa el número: 1292385\n",
            "Ingresa el número: 2\n",
            "Ingresa el número: 1\n",
            "1292385\n"
          ]
        }
      ]
    },
    {
      "cell_type": "markdown",
      "source": [
        "### Ejercicio 5: Tabla de Multiplicar\n",
        "\n",
        "Realiza un programa que genere y muestre la tabla de multiplicar de un número N introducido por el usuario."
      ],
      "metadata": {
        "id": "Ta5pLFKruGPw"
      }
    },
    {
      "cell_type": "code",
      "source": [
        "N = int(input(\"Introduce un número para generar su tabla de multiplicar: \"))\n",
        "# Usa un bucle para generar y mostrar la tabla de multiplicar de N\n",
        "\n",
        "for i in range(1,11):\n",
        "  print(i, \"x\", N, \"=\", i*N)\n"
      ],
      "metadata": {
        "id": "kzaZ1lR6uIzy",
        "colab": {
          "base_uri": "https://localhost:8080/"
        },
        "outputId": "5daef98d-367f-4bb5-fbcc-2f16ee742174"
      },
      "execution_count": null,
      "outputs": [
        {
          "output_type": "stream",
          "name": "stdout",
          "text": [
            "Introduce un número para generar su tabla de multiplicar: 8\n",
            "1 x 8 = 8\n",
            "2 x 8 = 16\n",
            "3 x 8 = 24\n",
            "4 x 8 = 32\n",
            "5 x 8 = 40\n",
            "6 x 8 = 48\n",
            "7 x 8 = 56\n",
            "8 x 8 = 64\n",
            "9 x 8 = 72\n",
            "10 x 8 = 80\n"
          ]
        }
      ]
    },
    {
      "cell_type": "markdown",
      "source": [
        "### Ejercicio 6: Suma de Números Pares hasta N\n",
        "\n",
        "Escribe un programa que calcule la suma de todos los números pares hasta un número N."
      ],
      "metadata": {
        "id": "PgfEZNENuJOo"
      }
    },
    {
      "cell_type": "code",
      "source": [
        "N = int(input(\"Introduce un número N: \"))\n",
        "suma = 0\n",
        "i = 1\n",
        "# Usa un bucle para sumar todos los números pares hasta N\n",
        "\n",
        "while ((suma+2*i)<=N):\n",
        "  suma = suma + 2*i\n",
        "  i+=1\n",
        "\n",
        "# Imprime la suma de los números pares\n",
        "\n",
        "print(suma)"
      ],
      "metadata": {
        "id": "59iXOuSjuLi9",
        "colab": {
          "base_uri": "https://localhost:8080/"
        },
        "outputId": "8d8c33b7-20ce-4484-fb06-a52e2e913b18"
      },
      "execution_count": null,
      "outputs": [
        {
          "output_type": "stream",
          "name": "stdout",
          "text": [
            "Introduce un número N: 20\n",
            "2\n",
            "6\n",
            "12\n",
            "20\n"
          ]
        }
      ]
    },
    {
      "cell_type": "markdown",
      "source": [
        "### Ejercicio 6-bis: Suma de Números Pares hasta N\n",
        "\n",
        "Escribe un programa que calcule la suma de todos los números pares hasta un número N."
      ],
      "metadata": {
        "id": "-jGbCA6epBGW"
      }
    },
    {
      "cell_type": "code",
      "source": [
        "N = int(input(\"Introduce un número N: \"))\n",
        "suma = 0\n",
        "# Usa un bucle para sumar todos los números pares hasta N\n",
        "\n",
        "for i in range(1,N+1):\n",
        "  suma = suma + 2*i\n",
        "\n",
        "# Imprime la suma de los números pares\n",
        "\n",
        "print(suma)"
      ],
      "metadata": {
        "colab": {
          "base_uri": "https://localhost:8080/"
        },
        "outputId": "77759a49-c73a-4b6e-bf48-a5ad0702ab8b",
        "id": "GYib4XMHpCGc"
      },
      "execution_count": null,
      "outputs": [
        {
          "output_type": "stream",
          "name": "stdout",
          "text": [
            "Introduce un número N: 5\n",
            "30\n"
          ]
        }
      ]
    },
    {
      "cell_type": "markdown",
      "source": [
        "### Ejercicio 7: Contador de Dígitos\n",
        "\n",
        "Desarrolla un programa que cuente el número de dígitos de un número entero N."
      ],
      "metadata": {
        "id": "nk1IerlUuL4j"
      }
    },
    {
      "cell_type": "code",
      "source": [
        "N = int(input(\"Introduce un número entero N: \"))\n",
        "# Inicializa un contador\n",
        "i=0\n",
        "# Usa un bucle para contar los dígitos de N\n",
        "while N!=0:\n",
        "  N//=10\n",
        "  i+=1\n",
        "# Imprime el número de dígitos\n",
        "print(i)"
      ],
      "metadata": {
        "id": "pmP8h242uOAf",
        "colab": {
          "base_uri": "https://localhost:8080/"
        },
        "outputId": "fceeee17-01c6-4046-fb2a-18f48d5cbc39"
      },
      "execution_count": null,
      "outputs": [
        {
          "output_type": "stream",
          "name": "stdout",
          "text": [
            "Introduce un número entero N: 839476\n",
            "6\n"
          ]
        }
      ]
    },
    {
      "cell_type": "markdown",
      "source": [
        "### Ejercicio 8: Conversión Binaria\n",
        "\n",
        "Escribe un programa que convierta un número entero N a binario."
      ],
      "metadata": {
        "id": "7gBJct1OuPcK"
      }
    },
    {
      "cell_type": "code",
      "source": [
        "N = int(input(\"Introduce un número entero N para convertirlo a binario: \"))\n",
        "binario = list()\n",
        "i=0\n",
        "# Usa un método para convertir N a binario\n",
        "while N!=0:\n",
        "  binario.append((N%2))\n",
        "  N//=2\n",
        "  i+=1\n",
        "binario.reverse()\n",
        "# Imprime el resultado en binario\n",
        "\n",
        "for i in binario:\n",
        "  print(i,end=\"\")"
      ],
      "metadata": {
        "id": "PQs8-vY1uxly",
        "colab": {
          "base_uri": "https://localhost:8080/"
        },
        "outputId": "b3bbe053-c33c-40c4-eee3-aa0b71487497"
      },
      "execution_count": null,
      "outputs": [
        {
          "output_type": "stream",
          "name": "stdout",
          "text": [
            "Introduce un número entero N para convertirlo a binario: 17\n",
            "10001"
          ]
        }
      ]
    }
  ]
}